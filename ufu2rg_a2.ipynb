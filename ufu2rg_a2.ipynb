{
 "cells": [
  {
   "cell_type": "code",
   "execution_count": 1,
   "id": "9769fa0f",
   "metadata": {},
   "outputs": [],
   "source": [
    "\"\"\"\n",
    "This is a skeleton of Assignment 2 for DS5110 Spring 2023.\n",
    "NOTE you will need to change the .ipynb file name by following the naming convention.\n",
    "Code should be commented well. \n",
    "Feel free to import any missing packages. \n",
    "\"\"\"\n",
    "import dask\n",
    "from dask.distributed import Client\n",
    "import dask.dataframe as dd\n",
    "import time\n",
    "import json\n",
    "import numpy as np\n",
    "import pandas as pd"
   ]
  },
  {
   "cell_type": "code",
   "execution_count": 2,
   "id": "564e23d7",
   "metadata": {},
   "outputs": [
    {
     "name": "stdout",
     "output_type": "stream",
     "text": [
      "<Client: 'tcp://172.31.84.189:8786' processes=4 threads=16, memory=30.66 GiB>\n"
     ]
    }
   ],
   "source": [
    "# fill out scheduler IP and port here when creating a Dask client object\n",
    "client = Client('172.31.84.189:8786') # scheduler IP & necessary port\n",
    "client = client.restart()\n",
    "print(client)"
   ]
  },
  {
   "cell_type": "code",
   "execution_count": 3,
   "id": "529d115b",
   "metadata": {},
   "outputs": [
    {
     "name": "stdout",
     "output_type": "stream",
     "text": [
      "CPU times: user 549 ms, sys: 2.22 s, total: 2.77 s\n",
      "Wall time: 2.77 s\n"
     ]
    }
   ],
   "source": [
    "%%time\n",
    "\n",
    "# Load the .CSV files into the Dask dataframes\n",
    "questions = dd.read_csv('/home/ubuntu/questions.csv', sample=2**30, assume_missing=True)\n",
    "question_tags = dd.read_csv('/home/ubuntu/question_tags.csv', sample=2**30, assume_missing=True)"
   ]
  },
  {
   "cell_type": "code",
   "execution_count": 4,
   "id": "b1847f10",
   "metadata": {},
   "outputs": [
    {
     "name": "stdout",
     "output_type": "stream",
     "text": [
      "CPU times: user 163 ms, sys: 52.1 ms, total: 215 ms\n",
      "Wall time: 17.7 s\n"
     ]
    }
   ],
   "source": [
    "%%time\n",
    "\n",
    "# Task 1\n",
    "# Get the percentage of missing values for all the columns in the questions table and the question_tags table.\n",
    "\n",
    "percent_missing = questions.isnull().sum()*100 / len(questions) # compute percentage of missing values by column of df\n",
    "missing_value_df = pd.DataFrame({'column_name': questions.columns,\n",
    "                                 'percent_missing': percent_missing}) # put output into dataframe"
   ]
  },
  {
   "cell_type": "code",
   "execution_count": 5,
   "id": "2a46e1db",
   "metadata": {},
   "outputs": [
    {
     "data": {
      "text/html": [
       "<div>\n",
       "<style scoped>\n",
       "    .dataframe tbody tr th:only-of-type {\n",
       "        vertical-align: middle;\n",
       "    }\n",
       "\n",
       "    .dataframe tbody tr th {\n",
       "        vertical-align: top;\n",
       "    }\n",
       "\n",
       "    .dataframe thead th {\n",
       "        text-align: right;\n",
       "    }\n",
       "</style>\n",
       "<table border=\"1\" class=\"dataframe\">\n",
       "  <thead>\n",
       "    <tr style=\"text-align: right;\">\n",
       "      <th></th>\n",
       "      <th>column_name</th>\n",
       "      <th>percent_missing</th>\n",
       "    </tr>\n",
       "  </thead>\n",
       "  <tbody>\n",
       "    <tr>\n",
       "      <th>0</th>\n",
       "      <td>Id</td>\n",
       "      <td>0.000000</td>\n",
       "    </tr>\n",
       "    <tr>\n",
       "      <th>1</th>\n",
       "      <td>CreationDate</td>\n",
       "      <td>0.000000</td>\n",
       "    </tr>\n",
       "    <tr>\n",
       "      <th>2</th>\n",
       "      <td>ClosedDate</td>\n",
       "      <td>89.973578</td>\n",
       "    </tr>\n",
       "    <tr>\n",
       "      <th>3</th>\n",
       "      <td>DeletionDate</td>\n",
       "      <td>76.962907</td>\n",
       "    </tr>\n",
       "    <tr>\n",
       "      <th>4</th>\n",
       "      <td>Score</td>\n",
       "      <td>0.000000</td>\n",
       "    </tr>\n",
       "    <tr>\n",
       "      <th>5</th>\n",
       "      <td>OwnerUserId</td>\n",
       "      <td>23.920885</td>\n",
       "    </tr>\n",
       "    <tr>\n",
       "      <th>6</th>\n",
       "      <td>AnswerCount</td>\n",
       "      <td>10.114036</td>\n",
       "    </tr>\n",
       "  </tbody>\n",
       "</table>\n",
       "</div>"
      ],
      "text/plain": [
       "    column_name  percent_missing\n",
       "0            Id         0.000000\n",
       "1  CreationDate         0.000000\n",
       "2    ClosedDate        89.973578\n",
       "3  DeletionDate        76.962907\n",
       "4         Score         0.000000\n",
       "5   OwnerUserId        23.920885\n",
       "6   AnswerCount        10.114036"
      ]
     },
     "execution_count": 5,
     "metadata": {},
     "output_type": "execute_result"
    }
   ],
   "source": [
    "missing_value_df # display the percent of missing values for each column of questions df"
   ]
  },
  {
   "cell_type": "code",
   "execution_count": 6,
   "id": "d5f3fa86",
   "metadata": {},
   "outputs": [
    {
     "name": "stdout",
     "output_type": "stream",
     "text": [
      "CPU times: user 120 ms, sys: 10.7 ms, total: 131 ms\n",
      "Wall time: 10.6 s\n"
     ]
    }
   ],
   "source": [
    "%%time\n",
    "\n",
    "# Task 2\n",
    "# Get mean, standard deviation, medium, min, and max of the Score column in the questions table.\n",
    "\n",
    "score_mean = questions['Score'].mean().compute() # compute mean\n",
    "score_std = questions['Score'].std().compute() # compute std\n",
    "score_med = questions['Score'].median_approximate().compute() # compute median (approximat works best for dask)\n",
    "score_min = questions['Score'].min().compute() # compute min\n",
    "score_max = questions['Score'].max().compute() # compute max\n",
    "\n",
    "eda = [score_mean, score_std, score_med, score_min, score_max] # put metrics from above into list\n",
    "\n",
    "eda_df = pd.DataFrame({'metric': ['mean', 'standard_dev', 'median', 'min', 'max'],\n",
    "                       'value': eda}) # put output into dataframe"
   ]
  },
  {
   "cell_type": "code",
   "execution_count": 7,
   "id": "f9c379a1",
   "metadata": {},
   "outputs": [
    {
     "data": {
      "text/html": [
       "<div>\n",
       "<style scoped>\n",
       "    .dataframe tbody tr th:only-of-type {\n",
       "        vertical-align: middle;\n",
       "    }\n",
       "\n",
       "    .dataframe tbody tr th {\n",
       "        vertical-align: top;\n",
       "    }\n",
       "\n",
       "    .dataframe thead th {\n",
       "        text-align: right;\n",
       "    }\n",
       "</style>\n",
       "<table border=\"1\" class=\"dataframe\">\n",
       "  <thead>\n",
       "    <tr style=\"text-align: right;\">\n",
       "      <th></th>\n",
       "      <th>metric</th>\n",
       "      <th>value</th>\n",
       "    </tr>\n",
       "  </thead>\n",
       "  <tbody>\n",
       "    <tr>\n",
       "      <th>0</th>\n",
       "      <td>mean</td>\n",
       "      <td>1.204167</td>\n",
       "    </tr>\n",
       "    <tr>\n",
       "      <th>1</th>\n",
       "      <td>standard_dev</td>\n",
       "      <td>15.645736</td>\n",
       "    </tr>\n",
       "    <tr>\n",
       "      <th>2</th>\n",
       "      <td>median</td>\n",
       "      <td>1.000000</td>\n",
       "    </tr>\n",
       "    <tr>\n",
       "      <th>3</th>\n",
       "      <td>min</td>\n",
       "      <td>-154.000000</td>\n",
       "    </tr>\n",
       "    <tr>\n",
       "      <th>4</th>\n",
       "      <td>max</td>\n",
       "      <td>16902.000000</td>\n",
       "    </tr>\n",
       "  </tbody>\n",
       "</table>\n",
       "</div>"
      ],
      "text/plain": [
       "         metric         value\n",
       "0          mean      1.204167\n",
       "1  standard_dev     15.645736\n",
       "2        median      1.000000\n",
       "3           min   -154.000000\n",
       "4           max  16902.000000"
      ]
     },
     "execution_count": 7,
     "metadata": {},
     "output_type": "execute_result"
    }
   ],
   "source": [
    "eda_df # eda of score column in questions df displayed as df"
   ]
  },
  {
   "cell_type": "code",
   "execution_count": 8,
   "id": "1b0722e3",
   "metadata": {},
   "outputs": [
    {
     "name": "stdout",
     "output_type": "stream",
     "text": [
      "CPU times: user 8.17 s, sys: 1.48 s, total: 9.65 s\n",
      "Wall time: 1min 51s\n"
     ]
    },
    {
     "data": {
      "text/plain": [
       "javascript              1649619\n",
       "java                    1563819\n",
       "php                     1365600\n",
       "c#                      1321027\n",
       "android                 1288193\n",
       "                         ...   \n",
       "silverlighttoolkit            1\n",
       "mvpd                          1\n",
       "fakesource                    1\n",
       "okta-password-policy          1\n",
       "ruby-prolog                   1\n",
       "Name: Tag, Length: 58254, dtype: int64"
      ]
     },
     "execution_count": 8,
     "metadata": {},
     "output_type": "execute_result"
    }
   ],
   "source": [
    "%%time\n",
    "\n",
    "# Task 3\n",
    "# Get the top 5 tags that have the highest number of questions (hint: manipulate the question_tags table)\n",
    "\n",
    "task3 = question_tags.drop_duplicates().compute() # drop duplicate rows (where question Id and tag are the same)\n",
    "task3['Tag'].value_counts() # sorts in descending order by default - shows top 5 tags with highest no. questions"
   ]
  },
  {
   "cell_type": "markdown",
   "id": "9479f10e",
   "metadata": {},
   "source": [
    "The most common tags (the ones with the highest amount of questions associated with them) are as follows:\n",
    "\n",
    "- `javascript`: 1649619 questions\n",
    "- `java`: 1563819 questions\n",
    "- `php`: 1365600 questions\n",
    "- `c#`: 1321027 questions\n",
    "- `android`: 1288193 questions"
   ]
  },
  {
   "cell_type": "code",
   "execution_count": 9,
   "id": "b6d9702e",
   "metadata": {},
   "outputs": [
    {
     "name": "stdout",
     "output_type": "stream",
     "text": [
      "CPU times: user 14 s, sys: 3.46 s, total: 17.5 s\n",
      "Wall time: 32.4 s\n"
     ]
    }
   ],
   "source": [
    "%%time\n",
    "\n",
    "# Task 4\n",
    "# Check if there are any dangling references to the question Id field from the questions table to question_tags table.\n",
    "# Return 1 if there are dangling references; return 0 otherwise.\n",
    "\n",
    "# if the ClosedDate DNE in questions table for a given Id in question_tags, it is a dangling reference\n",
    "\n",
    "q_ids = question_tags['Id'].unique().compute().tolist() # get all unique question Ids from tag df\n",
    "q_dangling = questions[questions['ClosedDate'].isnull()]['Id'].compute().tolist() # find all dangling question Ids \n",
    "\n",
    "# find q_ids (that have tags) that are dangling (no ClosedDate) & put into list\n",
    "dangling_references = list(set(q_ids).intersection(q_dangling)) \n",
    "\n",
    "ones = [1]*len(dangling_references) # list of positive dummies (a dangling reference is True)\n",
    "pos_dummies = pd.DataFrame({'Id': dangling_references,\n",
    "                            'dangling': ones}) # pos dummies into df\n",
    "\n",
    "task4 = questions.join(pos_dummies.set_index('Id'), on='Id') # join questions & dangling Id dataframe\n",
    "task4['dangling'] = task4['dangling'].fillna(0) # fill NaN of dangling col with 0"
   ]
  },
  {
   "cell_type": "code",
   "execution_count": 10,
   "id": "6d183040",
   "metadata": {},
   "outputs": [
    {
     "name": "stdout",
     "output_type": "stream",
     "text": [
      "CPU times: user 558 ms, sys: 226 ms, total: 784 ms\n",
      "Wall time: 7.64 s\n"
     ]
    },
    {
     "data": {
      "text/html": [
       "<div>\n",
       "<style scoped>\n",
       "    .dataframe tbody tr th:only-of-type {\n",
       "        vertical-align: middle;\n",
       "    }\n",
       "\n",
       "    .dataframe tbody tr th {\n",
       "        vertical-align: top;\n",
       "    }\n",
       "\n",
       "    .dataframe thead th {\n",
       "        text-align: right;\n",
       "    }\n",
       "</style>\n",
       "<table border=\"1\" class=\"dataframe\">\n",
       "  <thead>\n",
       "    <tr style=\"text-align: right;\">\n",
       "      <th></th>\n",
       "      <th>OwnerUserId</th>\n",
       "      <th>AverageScore</th>\n",
       "      <th>NumQuestions</th>\n",
       "      <th>NumAnswers</th>\n",
       "    </tr>\n",
       "  </thead>\n",
       "  <tbody>\n",
       "    <tr>\n",
       "      <th>363219</th>\n",
       "      <td>875317.0</td>\n",
       "      <td>1.198206</td>\n",
       "      <td>2230</td>\n",
       "      <td>3499.0</td>\n",
       "    </tr>\n",
       "    <tr>\n",
       "      <th>9195</th>\n",
       "      <td>39677.0</td>\n",
       "      <td>6.607613</td>\n",
       "      <td>2128</td>\n",
       "      <td>5176.0</td>\n",
       "    </tr>\n",
       "    <tr>\n",
       "      <th>1972</th>\n",
       "      <td>4653.0</td>\n",
       "      <td>6.883095</td>\n",
       "      <td>1822</td>\n",
       "      <td>5696.0</td>\n",
       "    </tr>\n",
       "    <tr>\n",
       "      <th>9347</th>\n",
       "      <td>34537.0</td>\n",
       "      <td>5.213690</td>\n",
       "      <td>1680</td>\n",
       "      <td>4525.0</td>\n",
       "    </tr>\n",
       "    <tr>\n",
       "      <th>41352</th>\n",
       "      <td>179736.0</td>\n",
       "      <td>7.344987</td>\n",
       "      <td>1516</td>\n",
       "      <td>3982.0</td>\n",
       "    </tr>\n",
       "  </tbody>\n",
       "</table>\n",
       "</div>"
      ],
      "text/plain": [
       "        OwnerUserId  AverageScore  NumQuestions  NumAnswers\n",
       "363219     875317.0      1.198206          2230      3499.0\n",
       "9195        39677.0      6.607613          2128      5176.0\n",
       "1972         4653.0      6.883095          1822      5696.0\n",
       "9347        34537.0      5.213690          1680      4525.0\n",
       "41352      179736.0      7.344987          1516      3982.0"
      ]
     },
     "execution_count": 10,
     "metadata": {},
     "output_type": "execute_result"
    }
   ],
   "source": [
    "%%time\n",
    "\n",
    "# Task 5\n",
    "# group by OwnerUserId and compute specified methods on given columns of questions df\n",
    "task5 = questions.groupby(by='OwnerUserId').agg({'Score': 'mean',\n",
    "                                                 'Id': 'count',\n",
    "                                                 'AnswerCount': 'sum'}).compute().reset_index()\n",
    "# rename columns to match requirements (names that make sense for column values)\n",
    "task5= task5.rename(columns={\"Score\": \"AverageScore\", \"Id\": \"NumQuestions\", \"AnswerCount\": \"NumAnswers\"})\n",
    "\n",
    "task5.sort_values(by='NumQuestions', ascending=False).head(5) # display new df to top 5 question askers"
   ]
  },
  {
   "cell_type": "markdown",
   "id": "2e5d1231",
   "metadata": {},
   "source": [
    "We see the top 5 users that asked the most questions shown above."
   ]
  },
  {
   "cell_type": "code",
   "execution_count": 11,
   "id": "ee679e1c",
   "metadata": {},
   "outputs": [
    {
     "name": "stdout",
     "output_type": "stream",
     "text": [
      "CPU times: user 113 ms, sys: 10.2 ms, total: 123 ms\n",
      "Wall time: 38.5 s\n"
     ]
    }
   ],
   "source": [
    "%%time\n",
    "\n",
    "# Task 6\n",
    "# group by Tag and compute specified methods on given columns of a merged df; most bytes stored per worker here\n",
    "join = questions.merge(question_tags, how=\"left\", on=[\"Id\"]) # join questions and tags on question Id\n",
    "\n",
    "# group by tag and compute specified methods on given columns of joined df\n",
    "task6 = join.groupby(by='Tag').agg({'Score': 'mean',\n",
    "                                    'AnswerCount': 'sum',\n",
    "                                    'Id': 'count',\n",
    "                                    'OwnerUserId': 'count'}).compute().reset_index() # compute here to keep kernel from dying\n",
    "# rename columns to match requirements (names that make sense for output)\n",
    "task6 = task6.rename(columns={\"Score\": \"AverageScore\",\n",
    "                             \"AnswerCount\": \"NumAnswers\",\n",
    "                             \"Id\": \"NumQuestions\",\n",
    "                             \"OwnerUserId\": \"NumOwners\"})"
   ]
  },
  {
   "cell_type": "code",
   "execution_count": 12,
   "id": "be87aca7",
   "metadata": {
    "scrolled": true
   },
   "outputs": [
    {
     "data": {
      "text/html": [
       "<div>\n",
       "<style scoped>\n",
       "    .dataframe tbody tr th:only-of-type {\n",
       "        vertical-align: middle;\n",
       "    }\n",
       "\n",
       "    .dataframe tbody tr th {\n",
       "        vertical-align: top;\n",
       "    }\n",
       "\n",
       "    .dataframe thead th {\n",
       "        text-align: right;\n",
       "    }\n",
       "</style>\n",
       "<table border=\"1\" class=\"dataframe\">\n",
       "  <thead>\n",
       "    <tr style=\"text-align: right;\">\n",
       "      <th></th>\n",
       "      <th>Tag</th>\n",
       "      <th>AverageScore</th>\n",
       "      <th>NumAnswers</th>\n",
       "      <th>NumQuestions</th>\n",
       "      <th>NumOwners</th>\n",
       "    </tr>\n",
       "  </thead>\n",
       "  <tbody>\n",
       "    <tr>\n",
       "      <th>57</th>\n",
       "      <td>javascript</td>\n",
       "      <td>1.134249</td>\n",
       "      <td>2252471.0</td>\n",
       "      <td>1649631</td>\n",
       "      <td>1296260</td>\n",
       "    </tr>\n",
       "    <tr>\n",
       "      <th>116</th>\n",
       "      <td>java</td>\n",
       "      <td>1.056542</td>\n",
       "      <td>2194354.0</td>\n",
       "      <td>1563820</td>\n",
       "      <td>1189238</td>\n",
       "    </tr>\n",
       "    <tr>\n",
       "      <th>0</th>\n",
       "      <td>php</td>\n",
       "      <td>0.375525</td>\n",
       "      <td>1855546.0</td>\n",
       "      <td>1365600</td>\n",
       "      <td>1017270</td>\n",
       "    </tr>\n",
       "    <tr>\n",
       "      <th>15</th>\n",
       "      <td>c#</td>\n",
       "      <td>1.340325</td>\n",
       "      <td>1937822.0</td>\n",
       "      <td>1321027</td>\n",
       "      <td>1039994</td>\n",
       "    </tr>\n",
       "    <tr>\n",
       "      <th>362</th>\n",
       "      <td>android</td>\n",
       "      <td>1.004450</td>\n",
       "      <td>1420669.0</td>\n",
       "      <td>1288338</td>\n",
       "      <td>936349</td>\n",
       "    </tr>\n",
       "  </tbody>\n",
       "</table>\n",
       "</div>"
      ],
      "text/plain": [
       "            Tag  AverageScore  NumAnswers  NumQuestions  NumOwners\n",
       "57   javascript      1.134249   2252471.0       1649631    1296260\n",
       "116        java      1.056542   2194354.0       1563820    1189238\n",
       "0           php      0.375525   1855546.0       1365600    1017270\n",
       "15           c#      1.340325   1937822.0       1321027    1039994\n",
       "362     android      1.004450   1420669.0       1288338     936349"
      ]
     },
     "execution_count": 12,
     "metadata": {},
     "output_type": "execute_result"
    }
   ],
   "source": [
    "# top 5 tags assorted by the most questions associated with them\n",
    "task6.sort_values(by='NumQuestions', ascending=False).head(5)"
   ]
  },
  {
   "cell_type": "markdown",
   "id": "5d069cbe",
   "metadata": {},
   "source": [
    "The top 5 tags that are associated with the highest number of questions are shown above - `javascript`, `java`, `php`, `c#`, and `android`."
   ]
  },
  {
   "cell_type": "code",
   "execution_count": 13,
   "id": "1a71f390",
   "metadata": {},
   "outputs": [
    {
     "data": {
      "text/html": [
       "<div>\n",
       "<style scoped>\n",
       "    .dataframe tbody tr th:only-of-type {\n",
       "        vertical-align: middle;\n",
       "    }\n",
       "\n",
       "    .dataframe tbody tr th {\n",
       "        vertical-align: top;\n",
       "    }\n",
       "\n",
       "    .dataframe thead th {\n",
       "        text-align: right;\n",
       "    }\n",
       "</style>\n",
       "<table border=\"1\" class=\"dataframe\">\n",
       "  <thead>\n",
       "    <tr style=\"text-align: right;\">\n",
       "      <th></th>\n",
       "      <th>Tag</th>\n",
       "      <th>AverageScore</th>\n",
       "      <th>NumAnswers</th>\n",
       "      <th>NumQuestions</th>\n",
       "      <th>NumOwners</th>\n",
       "    </tr>\n",
       "  </thead>\n",
       "  <tbody>\n",
       "    <tr>\n",
       "      <th>57</th>\n",
       "      <td>javascript</td>\n",
       "      <td>1.134249</td>\n",
       "      <td>2252471.0</td>\n",
       "      <td>1649631</td>\n",
       "      <td>1296260</td>\n",
       "    </tr>\n",
       "    <tr>\n",
       "      <th>116</th>\n",
       "      <td>java</td>\n",
       "      <td>1.056542</td>\n",
       "      <td>2194354.0</td>\n",
       "      <td>1563820</td>\n",
       "      <td>1189238</td>\n",
       "    </tr>\n",
       "    <tr>\n",
       "      <th>15</th>\n",
       "      <td>c#</td>\n",
       "      <td>1.340325</td>\n",
       "      <td>1937822.0</td>\n",
       "      <td>1321027</td>\n",
       "      <td>1039994</td>\n",
       "    </tr>\n",
       "    <tr>\n",
       "      <th>0</th>\n",
       "      <td>php</td>\n",
       "      <td>0.375525</td>\n",
       "      <td>1855546.0</td>\n",
       "      <td>1365600</td>\n",
       "      <td>1017270</td>\n",
       "    </tr>\n",
       "    <tr>\n",
       "      <th>110</th>\n",
       "      <td>jquery</td>\n",
       "      <td>0.881797</td>\n",
       "      <td>1462029.0</td>\n",
       "      <td>1011324</td>\n",
       "      <td>801493</td>\n",
       "    </tr>\n",
       "  </tbody>\n",
       "</table>\n",
       "</div>"
      ],
      "text/plain": [
       "            Tag  AverageScore  NumAnswers  NumQuestions  NumOwners\n",
       "57   javascript      1.134249   2252471.0       1649631    1296260\n",
       "116        java      1.056542   2194354.0       1563820    1189238\n",
       "15           c#      1.340325   1937822.0       1321027    1039994\n",
       "0           php      0.375525   1855546.0       1365600    1017270\n",
       "110      jquery      0.881797   1462029.0       1011324     801493"
      ]
     },
     "execution_count": 13,
     "metadata": {},
     "output_type": "execute_result"
    }
   ],
   "source": [
    "# top 5 tags assorted by the number of answers associated with them\n",
    "task6.sort_values(by='NumAnswers', ascending=False).head(5)"
   ]
  },
  {
   "cell_type": "markdown",
   "id": "45e8a530",
   "metadata": {},
   "source": [
    "The top 5 tags associated with the most answers provided are shown above - `javascript`, `java`, `c#`, `php`, and `jquery`. Unsurprisingly, 4 out of 5 of these tags also appear in the top 5 tags associated with the greatest number of questions. We would expect that with more questions, comes more answers, explaining the similarity in output."
   ]
  },
  {
   "cell_type": "code",
   "execution_count": null,
   "id": "8faa82f6",
   "metadata": {},
   "outputs": [],
   "source": []
  }
 ],
 "metadata": {
  "kernelspec": {
   "display_name": "Python 3 (ipykernel)",
   "language": "python",
   "name": "python3"
  },
  "language_info": {
   "codemirror_mode": {
    "name": "ipython",
    "version": 3
   },
   "file_extension": ".py",
   "mimetype": "text/x-python",
   "name": "python",
   "nbconvert_exporter": "python",
   "pygments_lexer": "ipython3",
   "version": "3.10.6"
  }
 },
 "nbformat": 4,
 "nbformat_minor": 5
}
